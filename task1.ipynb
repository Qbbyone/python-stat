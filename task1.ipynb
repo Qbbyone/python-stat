{
  "nbformat": 4,
  "nbformat_minor": 0,
  "metadata": {
    "colab": {
      "provenance": [],
      "toc_visible": true,
      "authorship_tag": "ABX9TyMaN92/Xmada91GQ3LFUFBr",
      "include_colab_link": true
    },
    "kernelspec": {
      "name": "python3",
      "display_name": "Python 3"
    },
    "language_info": {
      "name": "python"
    }
  },
  "cells": [
    {
      "cell_type": "markdown",
      "metadata": {
        "id": "view-in-github",
        "colab_type": "text"
      },
      "source": [
        "<a href=\"https://colab.research.google.com/github/Qbbyone/python-stat/blob/main/task1.ipynb\" target=\"_parent\"><img src=\"https://colab.research.google.com/assets/colab-badge.svg\" alt=\"Open In Colab\"/></a>"
      ]
    },
    {
      "cell_type": "code",
      "source": [
        "import pandas as pd\n",
        "data_path = '/HR.xlsx'\n",
        "data = pd.read_excel(data_path)\n",
        "data"
      ],
      "metadata": {
        "id": "Y3voKzeOO2_I"
      },
      "execution_count": null,
      "outputs": []
    },
    {
      "cell_type": "code",
      "source": [
        "# 1. Построить график распределения возраста для мужчин и женщин (*). \n",
        "# Подписать оси, добавить легенду и сетку на график.\n",
        "\n",
        "import matplotlib.pyplot as plt\n",
        "age = data['age']\n",
        "\n",
        "edges = [10,15,20, 25, 30, 35,40, 45,50,55, 60, 66, 70,75, 80,85, 90] # границы диапазонов\n",
        "n, bins, patches = plt.hist(age[data[\"gender\"]==\"м\"], edges, facecolor='blue', alpha=0.6, rwidth = 0.9)\n",
        "n, bins, patches = plt.hist(age[data[\"gender\"]==\"ж\"], edges, facecolor='red', alpha=0.6, rwidth = 0.9)\n",
        "\n",
        "plt.xlabel('Возраст')\n",
        "plt.ylabel('Число')\n",
        "plt.title('Распределение возраста')\n",
        "plt.legend([\"М\",\"Ж\"])\n",
        "plt.grid(True)\n",
        "plt.show()"
      ],
      "metadata": {
        "colab": {
          "base_uri": "https://localhost:8080/",
          "height": 472
        },
        "id": "Q-XR2fAUbt03",
        "outputId": "61b81b25-9a90-4e3d-df95-b2efd97bb441"
      },
      "execution_count": 9,
      "outputs": [
        {
          "output_type": "display_data",
          "data": {
            "text/plain": [
              "<Figure size 640x480 with 1 Axes>"
            ],
            "image/png": "[encoded data removed]"
          },
          "metadata": {}
        }
      ]
    },
    {
      "cell_type": "code",
      "source": [
        "# 2. Рассчитать медиану возраста: для всей выборки, мужчин и женщин отдельно(*)\n",
        "age_mean = data[\"age\"].mean()\n",
        "female_mean = age[data[\"gender\"]==\"ж\"].mean()\n",
        "male_mean = age[data[\"gender\"]==\"м\"].mean()\n",
        "age_mean, female_mean, male_mean"
      ],
      "metadata": {
        "colab": {
          "base_uri": "https://localhost:8080/"
        },
        "id": "9me7bgeHbucm",
        "outputId": "1724be86-2afb-4474-a23a-428b818417a0"
      },
      "execution_count": 17,
      "outputs": [
        {
          "output_type": "execute_result",
          "data": {
            "text/plain": [
              "(36.545, 37.509433962264154, 35.45744680851064)"
            ]
          },
          "metadata": {},
          "execution_count": 17
        }
      ]
    },
    {
      "cell_type": "code",
      "source": [
        "# 3. Рассчитать медиану ЧСС: для всей выборки, мужчин и женщин отдельно(*).\n",
        "hr = data[\"hr\"]\n",
        "\n",
        "hr_mean = hr.mean()\n",
        "female_hr_mean = hr[data[\"gender\"]==\"ж\"].mean()\n",
        "male_hr_mean = hr[data[\"gender\"]==\"м\"].mean()\n",
        "hr_mean, female_hr_mean, male_hr_mean"
      ],
      "metadata": {
        "id": "p1lCD4LGO5AO",
        "colab": {
          "base_uri": "https://localhost:8080/"
        },
        "outputId": "8ff7df19-aa99-41d7-cee1-340fda069fb2"
      },
      "execution_count": 18,
      "outputs": [
        {
          "output_type": "execute_result",
          "data": {
            "text/plain": [
              "(74.705, 74.09433962264151, 75.3936170212766)"
            ]
          },
          "metadata": {},
          "execution_count": 18
        }
      ]
    }
  ]
}