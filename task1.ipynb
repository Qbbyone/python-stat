{
  "nbformat": 4,
  "nbformat_minor": 0,
  "metadata": {
    "colab": {
      "provenance": [],
      "authorship_tag": "ABX9TyOykkT53VTF9CvR5cFqIKLR",
      "include_colab_link": true
    },
    "kernelspec": {
      "name": "python3",
      "display_name": "Python 3"
    },
    "language_info": {
      "name": "python"
    }
  },
  "cells": [
    {
      "cell_type": "markdown",
      "metadata": {
        "id": "view-in-github",
        "colab_type": "text"
      },
      "source": [
        "<a href=\"https://colab.research.google.com/github/Qbbyone/python-stat/blob/main/task1.ipynb\" target=\"_parent\"><img src=\"https://colab.research.google.com/assets/colab-badge.svg\" alt=\"Open In Colab\"/></a>"
      ]
    },
    {
      "cell_type": "code",
      "source": [
        "import pandas as pd\n",
        "data_path = '/HR.xlsx'\n",
        "data = pd.read_excel(data_path)\n",
        "data"
      ],
      "metadata": {
        "id": "Y3voKzeOO2_I",
        "colab": {
          "base_uri": "https://localhost:8080/",
          "height": 424
        },
        "outputId": "c272ae0b-3784-4484-f2a2-e38c308e7d00"
      },
      "execution_count": 35,
      "outputs": [
        {
          "output_type": "execute_result",
          "data": {
            "text/plain": [
              "     age gender  hr    author\n",
              "0     21      ж  98  Лотоцкая\n",
              "1     34      ж  82  Лотоцкая\n",
              "2     25      ж  77  Лотоцкая\n",
              "3     22      ж  86  Лотоцкая\n",
              "4     34      м  65  Лотоцкая\n",
              "..   ...    ...  ..       ...\n",
              "195   22      м  60  Матвеева\n",
              "196   24      ж  68  Матвеева\n",
              "197   23      ж  74  Матвеева\n",
              "198   14      м  92  Матвеева\n",
              "199   28      м  72  Матвеева\n",
              "\n",
              "[200 rows x 4 columns]"
            ],
            "text/html": [
              "\n",
              "  <div id=\"df-ee0266e3-d86c-4143-a631-1880e0fc364d\">\n",
              "    <div class=\"colab-df-container\">\n",
              "      <div>\n",
              "<style scoped>\n",
              "    .dataframe tbody tr th:only-of-type {\n",
              "        vertical-align: middle;\n",
              "    }\n",
              "\n",
              "    .dataframe tbody tr th {\n",
              "        vertical-align: top;\n",
              "    }\n",
              "\n",
              "    .dataframe thead th {\n",
              "        text-align: right;\n",
              "    }\n",
              "</style>\n",
              "<table border=\"1\" class=\"dataframe\">\n",
              "  <thead>\n",
              "    <tr style=\"text-align: right;\">\n",
              "      <th></th>\n",
              "      <th>age</th>\n",
              "      <th>gender</th>\n",
              "      <th>hr</th>\n",
              "      <th>author</th>\n",
              "    </tr>\n",
              "  </thead>\n",
              "  <tbody>\n",
              "    <tr>\n",
              "      <th>0</th>\n",
              "      <td>21</td>\n",
              "      <td>ж</td>\n",
              "      <td>98</td>\n",
              "      <td>Лотоцкая</td>\n",
              "    </tr>\n",
              "    <tr>\n",
              "      <th>1</th>\n",
              "      <td>34</td>\n",
              "      <td>ж</td>\n",
              "      <td>82</td>\n",
              "      <td>Лотоцкая</td>\n",
              "    </tr>\n",
              "    <tr>\n",
              "      <th>2</th>\n",
              "      <td>25</td>\n",
              "      <td>ж</td>\n",
              "      <td>77</td>\n",
              "      <td>Лотоцкая</td>\n",
              "    </tr>\n",
              "    <tr>\n",
              "      <th>3</th>\n",
              "      <td>22</td>\n",
              "      <td>ж</td>\n",
              "      <td>86</td>\n",
              "      <td>Лотоцкая</td>\n",
              "    </tr>\n",
              "    <tr>\n",
              "      <th>4</th>\n",
              "      <td>34</td>\n",
              "      <td>м</td>\n",
              "      <td>65</td>\n",
              "      <td>Лотоцкая</td>\n",
              "    </tr>\n",
              "    <tr>\n",
              "      <th>...</th>\n",
              "      <td>...</td>\n",
              "      <td>...</td>\n",
              "      <td>...</td>\n",
              "      <td>...</td>\n",
              "    </tr>\n",
              "    <tr>\n",
              "      <th>195</th>\n",
              "      <td>22</td>\n",
              "      <td>м</td>\n",
              "      <td>60</td>\n",
              "      <td>Матвеева</td>\n",
              "    </tr>\n",
              "    <tr>\n",
              "      <th>196</th>\n",
              "      <td>24</td>\n",
              "      <td>ж</td>\n",
              "      <td>68</td>\n",
              "      <td>Матвеева</td>\n",
              "    </tr>\n",
              "    <tr>\n",
              "      <th>197</th>\n",
              "      <td>23</td>\n",
              "      <td>ж</td>\n",
              "      <td>74</td>\n",
              "      <td>Матвеева</td>\n",
              "    </tr>\n",
              "    <tr>\n",
              "      <th>198</th>\n",
              "      <td>14</td>\n",
              "      <td>м</td>\n",
              "      <td>92</td>\n",
              "      <td>Матвеева</td>\n",
              "    </tr>\n",
              "    <tr>\n",
              "      <th>199</th>\n",
              "      <td>28</td>\n",
              "      <td>м</td>\n",
              "      <td>72</td>\n",
              "      <td>Матвеева</td>\n",
              "    </tr>\n",
              "  </tbody>\n",
              "</table>\n",
              "<p>200 rows × 4 columns</p>\n",
              "</div>\n",
              "      <button class=\"colab-df-convert\" onclick=\"convertToInteractive('df-ee0266e3-d86c-4143-a631-1880e0fc364d')\"\n",
              "              title=\"Convert this dataframe to an interactive table.\"\n",
              "              style=\"display:none;\">\n",
              "        \n",
              "  <svg xmlns=\"http://www.w3.org/2000/svg\" height=\"24px\"viewBox=\"0 0 24 24\"\n",
              "       width=\"24px\">\n",
              "    <path d=\"M0 0h24v24H0V0z\" fill=\"none\"/>\n",
              "    <path d=\"M18.56 5.44l.94 2.06.94-2.06 2.06-.94-2.06-.94-.94-2.06-.94 2.06-2.06.94zm-11 1L8.5 8.5l.94-2.06 2.06-.94-2.06-.94L8.5 2.5l-.94 2.06-2.06.94zm10 10l.94 2.06.94-2.06 2.06-.94-2.06-.94-.94-2.06-.94 2.06-2.06.94z\"/><path d=\"M17.41 7.96l-1.37-1.37c-.4-.4-.92-.59-1.43-.59-.52 0-1.04.2-1.43.59L10.3 9.45l-7.72 7.72c-.78.78-.78 2.05 0 2.83L4 21.41c.39.39.9.59 1.41.59.51 0 1.02-.2 1.41-.59l7.78-7.78 2.81-2.81c.8-.78.8-2.07 0-2.86zM5.41 20L4 18.59l7.72-7.72 1.47 1.35L5.41 20z\"/>\n",
              "  </svg>\n",
              "      </button>\n",
              "      \n",
              "  <style>\n",
              "    .colab-df-container {\n",
              "      display:flex;\n",
              "      flex-wrap:wrap;\n",
              "      gap: 12px;\n",
              "    }\n",
              "\n",
              "    .colab-df-convert {\n",
              "      background-color: #E8F0FE;\n",
              "      border: none;\n",
              "      border-radius: 50%;\n",
              "      cursor: pointer;\n",
              "      display: none;\n",
              "      fill: #1967D2;\n",
              "      height: 32px;\n",
              "      padding: 0 0 0 0;\n",
              "      width: 32px;\n",
              "    }\n",
              "\n",
              "    .colab-df-convert:hover {\n",
              "      background-color: #E2EBFA;\n",
              "      box-shadow: 0px 1px 2px rgba(60, 64, 67, 0.3), 0px 1px 3px 1px rgba(60, 64, 67, 0.15);\n",
              "      fill: #174EA6;\n",
              "    }\n",
              "\n",
              "    [theme=dark] .colab-df-convert {\n",
              "      background-color: #3B4455;\n",
              "      fill: #D2E3FC;\n",
              "    }\n",
              "\n",
              "    [theme=dark] .colab-df-convert:hover {\n",
              "      background-color: #434B5C;\n",
              "      box-shadow: 0px 1px 3px 1px rgba(0, 0, 0, 0.15);\n",
              "      filter: drop-shadow(0px 1px 2px rgba(0, 0, 0, 0.3));\n",
              "      fill: #FFFFFF;\n",
              "    }\n",
              "  </style>\n",
              "\n",
              "      <script>\n",
              "        const buttonEl =\n",
              "          document.querySelector('#df-ee0266e3-d86c-4143-a631-1880e0fc364d button.colab-df-convert');\n",
              "        buttonEl.style.display =\n",
              "          google.colab.kernel.accessAllowed ? 'block' : 'none';\n",
              "\n",
              "        async function convertToInteractive(key) {\n",
              "          const element = document.querySelector('#df-ee0266e3-d86c-4143-a631-1880e0fc364d');\n",
              "          const dataTable =\n",
              "            await google.colab.kernel.invokeFunction('convertToInteractive',\n",
              "                                                     [key], {});\n",
              "          if (!dataTable) return;\n",
              "\n",
              "          const docLinkHtml = 'Like what you see? Visit the ' +\n",
              "            '<a target=\"_blank\" href=https://colab.research.google.com/notebooks/data_table.ipynb>data table notebook</a>'\n",
              "            + ' to learn more about interactive tables.';\n",
              "          element.innerHTML = '';\n",
              "          dataTable['output_type'] = 'display_data';\n",
              "          await google.colab.output.renderOutput(dataTable, element);\n",
              "          const docLink = document.createElement('div');\n",
              "          docLink.innerHTML = docLinkHtml;\n",
              "          element.appendChild(docLink);\n",
              "        }\n",
              "      </script>\n",
              "    </div>\n",
              "  </div>\n",
              "  "
            ]
          },
          "metadata": {},
          "execution_count": 35
        }
      ]
    },
    {
      "cell_type": "code",
      "source": [
        "# 1. Построить график распределения возраста для мужчин и женщин (*). \n",
        "# Подписать оси, добавить легенду и сетку на график.\n",
        "\n",
        "import matplotlib.pyplot as plt\n",
        "age = data['age']\n",
        "\n",
        "edges = [10,15,20, 25, 30, 35,40, 45,50,55, 60, 66, 70,75, 80,85, 90] # границы диапазонов\n",
        "n, bins, patches = plt.hist(age[data[\"gender\"]==\"м\"], edges, facecolor='blue', alpha=0.6, rwidth = 0.9)\n",
        "n, bins, patches = plt.hist(age[data[\"gender\"]==\"ж\"], edges, facecolor='red', alpha=0.6, rwidth = 0.9)\n",
        "\n",
        "plt.xlabel('Возраст')\n",
        "plt.ylabel('Число')\n",
        "plt.title('Распределение возраста')\n",
        "plt.legend([\"М\",\"Ж\"])\n",
        "plt.grid(True)\n",
        "plt.show()"
      ],
      "metadata": {
        "colab": {
          "base_uri": "https://localhost:8080/",
          "height": 357
        },
        "id": "Q-XR2fAUbt03",
        "outputId": "9ad907ff-9fcf-479f-f698-7fc37592a792"
      },
      "execution_count": 36,
      "outputs": [
        {
          "output_type": "display_data",
          "data": {
            "text/plain": [
              "<Figure size 750x350 with 1 Axes>"
            ],
            "image/png": "[encoded data removed]"
          },
          "metadata": {}
        }
      ]
    },
    {
      "cell_type": "code",
      "source": [
        "# 2. Рассчитать медиану возраста: для всей выборки, мужчин и женщин отдельно(*)\n",
        "age_median = data[\"age\"].median() \n",
        "female_median = age[data[\"gender\"]==\"ж\"].median() \n",
        "male_median = age[data[\"gender\"]==\"м\"].median() \n",
        "age_median, female_median, male_median"
      ],
      "metadata": {
        "colab": {
          "base_uri": "https://localhost:8080/"
        },
        "id": "9me7bgeHbucm",
        "outputId": "e32eed42-a647-47ea-c98e-38a2f3d67f2c"
      },
      "execution_count": 37,
      "outputs": [
        {
          "output_type": "execute_result",
          "data": {
            "text/plain": [
              "(32.5, 34.0, 32.0)"
            ]
          },
          "metadata": {},
          "execution_count": 37
        }
      ]
    },
    {
      "cell_type": "code",
      "source": [
        "# 3. Рассчитать медиану ЧСС: для всей выборки, мужчин и женщин отдельно(*).\n",
        "hr = data[\"hr\"]\n",
        "\n",
        "hr_median = hr.median()\n",
        "female_hr_median = hr[data[\"gender\"]==\"ж\"].median()\n",
        "male_hr_median = hr[data[\"gender\"]==\"м\"].median()\n",
        "hr_median, female_hr_median, male_hr_median"
      ],
      "metadata": {
        "id": "p1lCD4LGO5AO",
        "colab": {
          "base_uri": "https://localhost:8080/"
        },
        "outputId": "55fb56eb-7657-48db-c0e6-40731a75ffbd"
      },
      "execution_count": 38,
      "outputs": [
        {
          "output_type": "execute_result",
          "data": {
            "text/plain": [
              "(72.0, 72.0, 73.0)"
            ]
          },
          "metadata": {},
          "execution_count": 38
        }
      ]
    },
    {
      "cell_type": "code",
      "source": [
        "# 4. Построить график распределения ЧСС для людей старше медианного значения возраста в выборке и младше(*). \n",
        "# Подписать оси, добавить легенду и сетку на график.\n",
        "edges = [30, 35,40, 45,50,55, 60, 66, 70,75, 80,85, 90, 95,100,105,110,115,120] # границы диапазонов\n",
        "n, bins, patches = plt.hist(hr[data[\"age\"] > age_median], edges, facecolor='blue', alpha=0.6, rwidth = 0.9)\n",
        "n, bins, patches = plt.hist(hr[data[\"age\"] < age_median], edges, facecolor='red', alpha=0.6, rwidth = 0.9)\n",
        "\n",
        "plt.xlabel('ЧСС')\n",
        "plt.ylabel('Число')\n",
        "plt.title('Распределение ЧСС по возрасту')\n",
        "plt.legend([\"Старше\",\"Младше\"])\n",
        "plt.grid(True)\n",
        "plt.show()"
      ],
      "metadata": {
        "colab": {
          "base_uri": "https://localhost:8080/",
          "height": 357
        },
        "id": "VPYKkih3fveA",
        "outputId": "a3eb15ee-02c7-4528-a855-8481c475bc6c"
      },
      "execution_count": 39,
      "outputs": [
        {
          "output_type": "display_data",
          "data": {
            "text/plain": [
              "<Figure size 750x350 with 1 Axes>"
            ],
            "image/png": "[encoded data removed]"
          },
          "metadata": {}
        }
      ]
    },
    {
      "cell_type": "code",
      "source": [
        "# 5. Построить боксплот ЧСС для людей старше медианного значения возраста в выборке и младше. \n",
        "# Подписать оси, добавить легенду и сетку на график.\n",
        "\n",
        "plt.rcParams[\"figure.figsize\"] = [7.50, 3.50]\n",
        "plt.rcParams[\"figure.autolayout\"] = True\n",
        "\n",
        "younger = hr[data[\"age\"] < age_median]\n",
        "older = hr[data[\"age\"] > age_median]\n",
        "\n",
        "boxplot_data = {'Младше': younger, 'Старше': hr[data[\"age\"] > age_median]}\n",
        "fig, ax = plt.subplots()\n",
        "\n",
        "ax.boxplot(boxplot_data.values())\n",
        "ax.set_xticklabels(boxplot_data.keys())\n",
        "\n",
        "#plt.boxplot(hr[data[\"age\"] > age_median], boxprops=dict(color='blue'), medianprops=dict(color='lightblue'))\n",
        "#plt.boxplot(hr[data[\"age\"] < age_median], boxprops=dict(color='red'), medianprops=dict(color='pink'))\n",
        "\n",
        "plt.ylabel('ЧСС')\n",
        "plt.title('Распределение ЧСС по возрасту')\n",
        "#plt.legend([\"Старше\",\"Младше\"])\n",
        "plt.grid(True)\n",
        "plt.show()"
      ],
      "metadata": {
        "colab": {
          "base_uri": "https://localhost:8080/",
          "height": 357
        },
        "id": "U47SdbeSfv0n",
        "outputId": "c52c5c35-a599-4787-a193-ad5c6f8cc124"
      },
      "execution_count": 41,
      "outputs": [
        {
          "output_type": "display_data",
          "data": {
            "text/plain": [
              "<Figure size 750x350 with 1 Axes>"
            ],
            "image/png": "[encoded data removed]"
          },
          "metadata": {}
        }
      ]
    },
    {
      "cell_type": "code",
      "source": [
        "# 6. Рассчитать ср.знач и стандартное отклонение для возраста и ЧСС: \n",
        "# для всей выборки, мужчин и женщин отдельно(*).\n",
        "\n",
        "# среднее значение\n",
        "age_mean = age.mean()\n",
        "female_mean = age[data[\"gender\"]==\"ж\"].mean()\n",
        "male_mean = age[data[\"gender\"]==\"м\"].mean()\n",
        "\n",
        "hr_mean = hr.mean()\n",
        "female_hr_mean = hr[data[\"gender\"]==\"ж\"].mean()\n",
        "male_hr_mean = hr[data[\"gender\"]==\"м\"].mean()\n",
        "\n",
        "# стандартное отклонение\n",
        "age_std = age.std()\n",
        "female_std = age[data[\"gender\"]==\"ж\"].std()\n",
        "male_std = age[data[\"gender\"]==\"м\"].std()\n",
        "\n",
        "hr_std = hr.std()\n",
        "female_hr_std = hr[data[\"gender\"]==\"ж\"].std()\n",
        "male_hr_std = hr[data[\"gender\"]==\"м\"].std()"
      ],
      "metadata": {
        "id": "VFBXDfRJf6O3"
      },
      "execution_count": null,
      "outputs": []
    },
    {
      "cell_type": "code",
      "source": [
        "# 7. Статистически оценить различия в двух группах, \n",
        "# мужчины и женщины, по возрасту - совпадают ли выборки по этому параметру или нет(*).\n"
      ],
      "metadata": {
        "id": "6KgnMvHSf_vn"
      },
      "execution_count": null,
      "outputs": []
    },
    {
      "cell_type": "code",
      "source": [
        "# 8. Статистически оценить различия в двух группах, \n",
        "# мужчины и женщины, по ЧСС - совпадают ли выборки по этому параметру или нет(*).\n"
      ],
      "metadata": {
        "id": "CEthW6wygF6X"
      },
      "execution_count": null,
      "outputs": []
    }
  ]
}