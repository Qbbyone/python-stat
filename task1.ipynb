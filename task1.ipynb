{
  "nbformat": 4,
  "nbformat_minor": 0,
  "metadata": {
    "colab": {
      "provenance": [],
      "authorship_tag": "ABX9TyOdUeFaYcBs75mmVj2xBW4i",
      "include_colab_link": true
    },
    "kernelspec": {
      "name": "python3",
      "display_name": "Python 3"
    },
    "language_info": {
      "name": "python"
    }
  },
  "cells": [
    {
      "cell_type": "markdown",
      "metadata": {
        "id": "view-in-github",
        "colab_type": "text"
      },
      "source": [
        "<a href=\"https://colab.research.google.com/github/Qbbyone/python-stat/blob/main/task1.ipynb\" target=\"_parent\"><img src=\"https://colab.research.google.com/assets/colab-badge.svg\" alt=\"Open In Colab\"/></a>"
      ]
    },
    {
      "cell_type": "code",
      "source": [
        "import pandas as pd\n",
        "data_path = '/HR.xlsx'\n",
        "data = pd.read_excel(data_path)\n",
        "data"
      ],
      "metadata": {
        "id": "Y3voKzeOO2_I",
        "colab": {
          "base_uri": "https://localhost:8080/",
          "height": 423
        },
        "outputId": "71875055-b9ee-479d-c068-ce47a8ebe648"
      },
      "execution_count": 4,
      "outputs": [
        {
          "output_type": "execute_result",
          "data": {
            "text/plain": [
              "     age gender  hr    author\n",
              "0     21      ж  98  Лотоцкая\n",
              "1     34      ж  82  Лотоцкая\n",
              "2     25      ж  77  Лотоцкая\n",
              "3     22      ж  86  Лотоцкая\n",
              "4     34      м  65  Лотоцкая\n",
              "..   ...    ...  ..       ...\n",
              "205   20      м  96    Висков\n",
              "206   30      м  80    Висков\n",
              "207   24      ж  84    Висков\n",
              "208   21      м  90    Висков\n",
              "209   51      ж  64    Висков\n",
              "\n",
              "[210 rows x 4 columns]"
            ],
            "text/html": [
              "\n",
              "  <div id=\"df-ec5f0da5-55b9-4663-8647-dc09775ed6dd\">\n",
              "    <div class=\"colab-df-container\">\n",
              "      <div>\n",
              "<style scoped>\n",
              "    .dataframe tbody tr th:only-of-type {\n",
              "        vertical-align: middle;\n",
              "    }\n",
              "\n",
              "    .dataframe tbody tr th {\n",
              "        vertical-align: top;\n",
              "    }\n",
              "\n",
              "    .dataframe thead th {\n",
              "        text-align: right;\n",
              "    }\n",
              "</style>\n",
              "<table border=\"1\" class=\"dataframe\">\n",
              "  <thead>\n",
              "    <tr style=\"text-align: right;\">\n",
              "      <th></th>\n",
              "      <th>age</th>\n",
              "      <th>gender</th>\n",
              "      <th>hr</th>\n",
              "      <th>author</th>\n",
              "    </tr>\n",
              "  </thead>\n",
              "  <tbody>\n",
              "    <tr>\n",
              "      <th>0</th>\n",
              "      <td>21</td>\n",
              "      <td>ж</td>\n",
              "      <td>98</td>\n",
              "      <td>Лотоцкая</td>\n",
              "    </tr>\n",
              "    <tr>\n",
              "      <th>1</th>\n",
              "      <td>34</td>\n",
              "      <td>ж</td>\n",
              "      <td>82</td>\n",
              "      <td>Лотоцкая</td>\n",
              "    </tr>\n",
              "    <tr>\n",
              "      <th>2</th>\n",
              "      <td>25</td>\n",
              "      <td>ж</td>\n",
              "      <td>77</td>\n",
              "      <td>Лотоцкая</td>\n",
              "    </tr>\n",
              "    <tr>\n",
              "      <th>3</th>\n",
              "      <td>22</td>\n",
              "      <td>ж</td>\n",
              "      <td>86</td>\n",
              "      <td>Лотоцкая</td>\n",
              "    </tr>\n",
              "    <tr>\n",
              "      <th>4</th>\n",
              "      <td>34</td>\n",
              "      <td>м</td>\n",
              "      <td>65</td>\n",
              "      <td>Лотоцкая</td>\n",
              "    </tr>\n",
              "    <tr>\n",
              "      <th>...</th>\n",
              "      <td>...</td>\n",
              "      <td>...</td>\n",
              "      <td>...</td>\n",
              "      <td>...</td>\n",
              "    </tr>\n",
              "    <tr>\n",
              "      <th>205</th>\n",
              "      <td>20</td>\n",
              "      <td>м</td>\n",
              "      <td>96</td>\n",
              "      <td>Висков</td>\n",
              "    </tr>\n",
              "    <tr>\n",
              "      <th>206</th>\n",
              "      <td>30</td>\n",
              "      <td>м</td>\n",
              "      <td>80</td>\n",
              "      <td>Висков</td>\n",
              "    </tr>\n",
              "    <tr>\n",
              "      <th>207</th>\n",
              "      <td>24</td>\n",
              "      <td>ж</td>\n",
              "      <td>84</td>\n",
              "      <td>Висков</td>\n",
              "    </tr>\n",
              "    <tr>\n",
              "      <th>208</th>\n",
              "      <td>21</td>\n",
              "      <td>м</td>\n",
              "      <td>90</td>\n",
              "      <td>Висков</td>\n",
              "    </tr>\n",
              "    <tr>\n",
              "      <th>209</th>\n",
              "      <td>51</td>\n",
              "      <td>ж</td>\n",
              "      <td>64</td>\n",
              "      <td>Висков</td>\n",
              "    </tr>\n",
              "  </tbody>\n",
              "</table>\n",
              "<p>210 rows × 4 columns</p>\n",
              "</div>\n",
              "      <button class=\"colab-df-convert\" onclick=\"convertToInteractive('df-ec5f0da5-55b9-4663-8647-dc09775ed6dd')\"\n",
              "              title=\"Convert this dataframe to an interactive table.\"\n",
              "              style=\"display:none;\">\n",
              "        \n",
              "  <svg xmlns=\"http://www.w3.org/2000/svg\" height=\"24px\"viewBox=\"0 0 24 24\"\n",
              "       width=\"24px\">\n",
              "    <path d=\"M0 0h24v24H0V0z\" fill=\"none\"/>\n",
              "    <path d=\"M18.56 5.44l.94 2.06.94-2.06 2.06-.94-2.06-.94-.94-2.06-.94 2.06-2.06.94zm-11 1L8.5 8.5l.94-2.06 2.06-.94-2.06-.94L8.5 2.5l-.94 2.06-2.06.94zm10 10l.94 2.06.94-2.06 2.06-.94-2.06-.94-.94-2.06-.94 2.06-2.06.94z\"/><path d=\"M17.41 7.96l-1.37-1.37c-.4-.4-.92-.59-1.43-.59-.52 0-1.04.2-1.43.59L10.3 9.45l-7.72 7.72c-.78.78-.78 2.05 0 2.83L4 21.41c.39.39.9.59 1.41.59.51 0 1.02-.2 1.41-.59l7.78-7.78 2.81-2.81c.8-.78.8-2.07 0-2.86zM5.41 20L4 18.59l7.72-7.72 1.47 1.35L5.41 20z\"/>\n",
              "  </svg>\n",
              "      </button>\n",
              "      \n",
              "  <style>\n",
              "    .colab-df-container {\n",
              "      display:flex;\n",
              "      flex-wrap:wrap;\n",
              "      gap: 12px;\n",
              "    }\n",
              "\n",
              "    .colab-df-convert {\n",
              "      background-color: #E8F0FE;\n",
              "      border: none;\n",
              "      border-radius: 50%;\n",
              "      cursor: pointer;\n",
              "      display: none;\n",
              "      fill: #1967D2;\n",
              "      height: 32px;\n",
              "      padding: 0 0 0 0;\n",
              "      width: 32px;\n",
              "    }\n",
              "\n",
              "    .colab-df-convert:hover {\n",
              "      background-color: #E2EBFA;\n",
              "      box-shadow: 0px 1px 2px rgba(60, 64, 67, 0.3), 0px 1px 3px 1px rgba(60, 64, 67, 0.15);\n",
              "      fill: #174EA6;\n",
              "    }\n",
              "\n",
              "    [theme=dark] .colab-df-convert {\n",
              "      background-color: #3B4455;\n",
              "      fill: #D2E3FC;\n",
              "    }\n",
              "\n",
              "    [theme=dark] .colab-df-convert:hover {\n",
              "      background-color: #434B5C;\n",
              "      box-shadow: 0px 1px 3px 1px rgba(0, 0, 0, 0.15);\n",
              "      filter: drop-shadow(0px 1px 2px rgba(0, 0, 0, 0.3));\n",
              "      fill: #FFFFFF;\n",
              "    }\n",
              "  </style>\n",
              "\n",
              "      <script>\n",
              "        const buttonEl =\n",
              "          document.querySelector('#df-ec5f0da5-55b9-4663-8647-dc09775ed6dd button.colab-df-convert');\n",
              "        buttonEl.style.display =\n",
              "          google.colab.kernel.accessAllowed ? 'block' : 'none';\n",
              "\n",
              "        async function convertToInteractive(key) {\n",
              "          const element = document.querySelector('#df-ec5f0da5-55b9-4663-8647-dc09775ed6dd');\n",
              "          const dataTable =\n",
              "            await google.colab.kernel.invokeFunction('convertToInteractive',\n",
              "                                                     [key], {});\n",
              "          if (!dataTable) return;\n",
              "\n",
              "          const docLinkHtml = 'Like what you see? Visit the ' +\n",
              "            '<a target=\"_blank\" href=https://colab.research.google.com/notebooks/data_table.ipynb>data table notebook</a>'\n",
              "            + ' to learn more about interactive tables.';\n",
              "          element.innerHTML = '';\n",
              "          dataTable['output_type'] = 'display_data';\n",
              "          await google.colab.output.renderOutput(dataTable, element);\n",
              "          const docLink = document.createElement('div');\n",
              "          docLink.innerHTML = docLinkHtml;\n",
              "          element.appendChild(docLink);\n",
              "        }\n",
              "      </script>\n",
              "    </div>\n",
              "  </div>\n",
              "  "
            ]
          },
          "metadata": {},
          "execution_count": 4
        }
      ]
    },
    {
      "cell_type": "code",
      "source": [
        "age = data['age']\n",
        "hr = data[\"hr\"]"
      ],
      "metadata": {
        "id": "e1GpPPdErQWz"
      },
      "execution_count": 13,
      "outputs": []
    },
    {
      "cell_type": "code",
      "source": [
        "# 1. Построить график распределения возраста для мужчин и женщин (*). \n",
        "# Подписать оси, добавить легенду и сетку на график.\n",
        "\n",
        "import matplotlib.pyplot as plt\n",
        "\n",
        "edges = [10, 15, 20, 25, 30, 35, 40, 45, 50, 55, 60, 65, 70, 75, 80, 85, 90] # границы диапазонов\n",
        "n, bins, patches = plt.hist(age[data[\"gender\"]==\"м\"], edges, facecolor='blue', alpha=0.6, rwidth = 0.9)\n",
        "n, bins, patches = plt.hist(age[data[\"gender\"]==\"ж\"], edges, facecolor='red', alpha=0.6, rwidth = 0.9)\n",
        "\n",
        "plt.xlabel('Возраст')\n",
        "plt.ylabel('Число')\n",
        "plt.title('Распределение возраста')\n",
        "plt.legend([\"М\",\"Ж\"])\n",
        "plt.grid(True)\n",
        "plt.show()"
      ],
      "metadata": {
        "colab": {
          "base_uri": "https://localhost:8080/",
          "height": 472
        },
        "id": "Q-XR2fAUbt03",
        "outputId": "6a2ae650-e9fe-4607-b092-c53063540f3d"
      },
      "execution_count": 14,
      "outputs": [
        {
          "output_type": "display_data",
          "data": {
            "text/plain": [
              "<Figure size 640x480 with 1 Axes>"
            ],
            "image/png": "[encoded data removed]"
          },
          "metadata": {}
        }
      ]
    },
    {
      "cell_type": "code",
      "source": [
        "# 2. Рассчитать медиану возраста: для всей выборки, мужчин и женщин отдельно(*)\n",
        "median_age = age.median() \n",
        "median_fem = age[data[\"gender\"]==\"ж\"].median() \n",
        "median_male = age[data[\"gender\"]==\"м\"].median() \n",
        "median_age, median_fem, median_male"
      ],
      "metadata": {
        "colab": {
          "base_uri": "https://localhost:8080/"
        },
        "id": "9me7bgeHbucm",
        "outputId": "5eb80cb5-65ba-4588-9a91-31b77fda2323"
      },
      "execution_count": 15,
      "outputs": [
        {
          "output_type": "execute_result",
          "data": {
            "text/plain": [
              "(30.0, 30.0, 30.5)"
            ]
          },
          "metadata": {},
          "execution_count": 15
        }
      ]
    },
    {
      "cell_type": "code",
      "source": [
        "# 3. Рассчитать медиану ЧСС: для всей выборки, мужчин и женщин отдельно(*).\n",
        "median_hr = hr.median()\n",
        "hr_median_fem = hr[data[\"gender\"]==\"ж\"].median()\n",
        "hr_median_male = hr[data[\"gender\"]==\"м\"].median()\n",
        "median_hr, hr_median_fem, hr_median_male"
      ],
      "metadata": {
        "id": "p1lCD4LGO5AO",
        "colab": {
          "base_uri": "https://localhost:8080/"
        },
        "outputId": "2f2d34b8-c7e9-4a7c-c837-cc93511e7ff6"
      },
      "execution_count": 17,
      "outputs": [
        {
          "output_type": "execute_result",
          "data": {
            "text/plain": [
              "(73.0, 72.0, 73.0)"
            ]
          },
          "metadata": {},
          "execution_count": 17
        }
      ]
    },
    {
      "cell_type": "code",
      "source": [
        "# 4. Построить график распределения ЧСС для людей старше медианного значения возраста в выборке и младше(*). \n",
        "# Подписать оси, добавить легенду и сетку на график.\n",
        "edges = [40,45,50,55, 60, 66, 70,75, 80,85, 90, 95,100,105,110,115] # границы диапазонов\n",
        "n, bins, patches = plt.hist(hr[data[\"age\"] > median_age], edges, facecolor='blue', alpha=0.6, rwidth = 0.9)\n",
        "n, bins, patches = plt.hist(hr[data[\"age\"] < median_age], edges, facecolor='red', alpha=0.6, rwidth = 0.9)\n",
        "\n",
        "plt.xlabel('ЧСС')\n",
        "plt.ylabel('Число')\n",
        "plt.title('Распределение ЧСС по возрасту')\n",
        "plt.legend([\"Старше\",\"Младше\"])\n",
        "plt.grid(True)\n",
        "plt.show()"
      ],
      "metadata": {
        "colab": {
          "base_uri": "https://localhost:8080/",
          "height": 472
        },
        "id": "VPYKkih3fveA",
        "outputId": "2594890c-df46-4590-de31-c19fcd763dba"
      },
      "execution_count": 21,
      "outputs": [
        {
          "output_type": "display_data",
          "data": {
            "text/plain": [
              "<Figure size 640x480 with 1 Axes>"
            ],
            "image/png": "[encoded data removed]"
          },
          "metadata": {}
        }
      ]
    },
    {
      "cell_type": "code",
      "source": [
        "# 5. Построить боксплот ЧСС для людей старше медианного значения возраста в выборке и младше. \n",
        "# Подписать оси, добавить легенду и сетку на график.\n",
        "\n",
        "younger = hr[data[\"age\"] < median_age]\n",
        "older = hr[data[\"age\"] > median_age]\n",
        "\n",
        "plt.boxplot([younger, older], labels=[\"Младше\", \"Старше\"])\n",
        "\n",
        "plt.ylabel('ЧСС')\n",
        "plt.title('Распределение ЧСС по возрасту')\n",
        "plt.grid(True)\n",
        "plt.show()"
      ],
      "metadata": {
        "colab": {
          "base_uri": "https://localhost:8080/",
          "height": 452
        },
        "id": "U47SdbeSfv0n",
        "outputId": "ddf3925d-29ff-446f-f7bc-9fabe24978a5"
      },
      "execution_count": 28,
      "outputs": [
        {
          "output_type": "display_data",
          "data": {
            "text/plain": [
              "<Figure size 750x450 with 1 Axes>"
            ],
            "image/png": "[encoded data removed]"
          },
          "metadata": {}
        }
      ]
    },
    {
      "cell_type": "code",
      "source": [
        "# 6. Рассчитать ср.знач и стандартное отклонение для возраста и ЧСС: \n",
        "# для всей выборки, мужчин и женщин отдельно(*).\n",
        "\n",
        "# среднее значение\n",
        "mean_age = age.mean()\n",
        "mean_fem = age[data[\"gender\"]==\"ж\"].mean()\n",
        "mean_male = age[data[\"gender\"]==\"м\"].mean()\n",
        "\n",
        "mean_hr = hr.mean()\n",
        "mean_hr_fem = hr[data[\"gender\"]==\"ж\"].mean()\n",
        "mean_hr_male = hr[data[\"gender\"]==\"м\"].mean()\n",
        "\n",
        "# стандартное отклонение\n",
        "std_age = age.std()\n",
        "std_fem = age[data[\"gender\"]==\"ж\"].std()\n",
        "std_male = age[data[\"gender\"]==\"м\"].std()\n",
        "\n",
        "std_hr = hr.std()\n",
        "std_hr_fem = hr[data[\"gender\"]==\"ж\"].std()\n",
        "std_hr_male = hr[data[\"gender\"]==\"м\"].std()"
      ],
      "metadata": {
        "id": "VFBXDfRJf6O3"
      },
      "execution_count": 24,
      "outputs": []
    },
    {
      "cell_type": "code",
      "source": [
        "# 7. Статистически оценить различия в двух группах, \n",
        "# мужчины и женщины, по возрасту - совпадают ли выборки по этому параметру или нет(*).\n"
      ],
      "metadata": {
        "id": "6KgnMvHSf_vn"
      },
      "execution_count": null,
      "outputs": []
    },
    {
      "cell_type": "code",
      "source": [
        "# 8. Статистически оценить различия в двух группах, \n",
        "# мужчины и женщины, по ЧСС - совпадают ли выборки по этому параметру или нет(*).\n"
      ],
      "metadata": {
        "id": "CEthW6wygF6X"
      },
      "execution_count": null,
      "outputs": []
    }
  ]
}